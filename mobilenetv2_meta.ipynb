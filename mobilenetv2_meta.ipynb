{
  "nbformat": 4,
  "nbformat_minor": 0,
  "metadata": {
    "colab": {
      "provenance": []
    },
    "kernelspec": {
      "name": "python3",
      "display_name": "Python 3"
    },
    "language_info": {
      "name": "python"
    }
  },
  "cells": [
    {
      "cell_type": "markdown",
      "source": [
        "# Mount Drive with Colab"
      ],
      "metadata": {
        "id": "sGqJDfl7gfn-"
      }
    },
    {
      "cell_type": "code",
      "source": [
        "from google.colab import drive\n",
        "drive.mount('/content/drive/')"
      ],
      "metadata": {
        "colab": {
          "base_uri": "https://localhost:8080/"
        },
        "id": "6SYamwsVLctQ",
        "outputId": "0fd948cc-9a49-4578-cc24-71437e17ea96"
      },
      "execution_count": 18,
      "outputs": [
        {
          "output_type": "stream",
          "name": "stdout",
          "text": [
            "Drive already mounted at /content/drive/; to attempt to forcibly remount, call drive.mount(\"/content/drive/\", force_remount=True).\n"
          ]
        }
      ]
    },
    {
      "cell_type": "markdown",
      "source": [
        "# Import Libraries"
      ],
      "metadata": {
        "id": "U0mHptfBgpRF"
      }
    },
    {
      "cell_type": "code",
      "execution_count": 19,
      "metadata": {
        "id": "Pdwnp4wt1Vu8"
      },
      "outputs": [],
      "source": [
        "import os\n",
        "\n",
        "os.environ['PROTOCOL_BUFFERS_PYTHON_IMPLEMENTATION'] = 'python'\n",
        "os.environ['TF_CPP_MIN_LOG_LEVEL'] = '3'\n",
        "\n",
        "import pandas as pd\n",
        "import numpy as np\n",
        "from sklearn.model_selection import train_test_split\n",
        "import tensorflow as tf\n",
        "from tensorflow.keras.models import Model\n",
        "from tensorflow.keras.layers import Dense, Input\n"
      ]
    },
    {
      "cell_type": "code",
      "source": [
        "# Load the data\n",
        "data = pd.read_csv(\"/content/drive/MyDrive/Colab Dataset/mobilenetv2_meta.csv\")"
      ],
      "metadata": {
        "id": "0SOW1ik_5zyP"
      },
      "execution_count": 20,
      "outputs": []
    },
    {
      "cell_type": "code",
      "source": [
        "data"
      ],
      "metadata": {
        "colab": {
          "base_uri": "https://localhost:8080/",
          "height": 423
        },
        "id": "jLRrCDSUIRoO",
        "outputId": "8d73167b-46d8-40e6-8ee0-d2800d107d7d"
      },
      "execution_count": 21,
      "outputs": [
        {
          "output_type": "execute_result",
          "data": {
            "text/plain": [
              "     optimizer  learning_rate  momentum      cpu   memory      time  epochs  \\\n",
              "0      adagrad       0.008751  0.104857  81.2750  75.3438   98.9703       8   \n",
              "1         adam       0.001269  0.153086  77.1636  73.4545  132.8219      11   \n",
              "2       adamax       0.007288  0.211320  75.5429  73.5071   88.2348       7   \n",
              "3         ftrl       0.000581  0.469927  75.0548  75.0619  256.7182      21   \n",
              "4        nadam       0.000211  0.187863  74.2542  73.8125  135.8448      12   \n",
              "...        ...            ...       ...      ...      ...       ...     ...   \n",
              "1010      ftrl       0.007620  0.787029  52.1591  40.9182  148.7001      11   \n",
              "1011     nadam       0.001103  0.559923  53.1643  43.7071  113.8758       7   \n",
              "1012       sgd       0.006675  0.477616  51.4250  43.9438  211.1450      16   \n",
              "1013   rmsprop       0.008886  0.434062  51.9273  47.0500  139.8019      11   \n",
              "1014  adadelta       0.005858  0.087801  49.2650  43.4833  421.5670      30   \n",
              "\n",
              "      predictions  dataset      loss  accuracy  \n",
              "0      348.002441       16  0.041280  1.000000  \n",
              "1      304.502136       16  0.065116  0.979167  \n",
              "2      435.003052       15  0.110147  0.963542  \n",
              "3      304.502136       15  0.184383  0.953125  \n",
              "4       43.500305       15  0.072042  0.984375  \n",
              "...           ...      ...       ...       ...  \n",
              "1010    43.500305       16  0.051317  0.989583  \n",
              "1011   391.502747       15  0.157909  0.937500  \n",
              "1012   304.502136       15  0.084905  0.979167  \n",
              "1013   174.001221       15  0.116141  0.989583  \n",
              "1014   261.001831       15  0.339677  0.843750  \n",
              "\n",
              "[1015 rows x 11 columns]"
            ],
            "text/html": [
              "\n",
              "  <div id=\"df-3643ca57-7d5c-4325-8e89-44f79b88c328\">\n",
              "    <div class=\"colab-df-container\">\n",
              "      <div>\n",
              "<style scoped>\n",
              "    .dataframe tbody tr th:only-of-type {\n",
              "        vertical-align: middle;\n",
              "    }\n",
              "\n",
              "    .dataframe tbody tr th {\n",
              "        vertical-align: top;\n",
              "    }\n",
              "\n",
              "    .dataframe thead th {\n",
              "        text-align: right;\n",
              "    }\n",
              "</style>\n",
              "<table border=\"1\" class=\"dataframe\">\n",
              "  <thead>\n",
              "    <tr style=\"text-align: right;\">\n",
              "      <th></th>\n",
              "      <th>optimizer</th>\n",
              "      <th>learning_rate</th>\n",
              "      <th>momentum</th>\n",
              "      <th>cpu</th>\n",
              "      <th>memory</th>\n",
              "      <th>time</th>\n",
              "      <th>epochs</th>\n",
              "      <th>predictions</th>\n",
              "      <th>dataset</th>\n",
              "      <th>loss</th>\n",
              "      <th>accuracy</th>\n",
              "    </tr>\n",
              "  </thead>\n",
              "  <tbody>\n",
              "    <tr>\n",
              "      <th>0</th>\n",
              "      <td>adagrad</td>\n",
              "      <td>0.008751</td>\n",
              "      <td>0.104857</td>\n",
              "      <td>81.2750</td>\n",
              "      <td>75.3438</td>\n",
              "      <td>98.9703</td>\n",
              "      <td>8</td>\n",
              "      <td>348.002441</td>\n",
              "      <td>16</td>\n",
              "      <td>0.041280</td>\n",
              "      <td>1.000000</td>\n",
              "    </tr>\n",
              "    <tr>\n",
              "      <th>1</th>\n",
              "      <td>adam</td>\n",
              "      <td>0.001269</td>\n",
              "      <td>0.153086</td>\n",
              "      <td>77.1636</td>\n",
              "      <td>73.4545</td>\n",
              "      <td>132.8219</td>\n",
              "      <td>11</td>\n",
              "      <td>304.502136</td>\n",
              "      <td>16</td>\n",
              "      <td>0.065116</td>\n",
              "      <td>0.979167</td>\n",
              "    </tr>\n",
              "    <tr>\n",
              "      <th>2</th>\n",
              "      <td>adamax</td>\n",
              "      <td>0.007288</td>\n",
              "      <td>0.211320</td>\n",
              "      <td>75.5429</td>\n",
              "      <td>73.5071</td>\n",
              "      <td>88.2348</td>\n",
              "      <td>7</td>\n",
              "      <td>435.003052</td>\n",
              "      <td>15</td>\n",
              "      <td>0.110147</td>\n",
              "      <td>0.963542</td>\n",
              "    </tr>\n",
              "    <tr>\n",
              "      <th>3</th>\n",
              "      <td>ftrl</td>\n",
              "      <td>0.000581</td>\n",
              "      <td>0.469927</td>\n",
              "      <td>75.0548</td>\n",
              "      <td>75.0619</td>\n",
              "      <td>256.7182</td>\n",
              "      <td>21</td>\n",
              "      <td>304.502136</td>\n",
              "      <td>15</td>\n",
              "      <td>0.184383</td>\n",
              "      <td>0.953125</td>\n",
              "    </tr>\n",
              "    <tr>\n",
              "      <th>4</th>\n",
              "      <td>nadam</td>\n",
              "      <td>0.000211</td>\n",
              "      <td>0.187863</td>\n",
              "      <td>74.2542</td>\n",
              "      <td>73.8125</td>\n",
              "      <td>135.8448</td>\n",
              "      <td>12</td>\n",
              "      <td>43.500305</td>\n",
              "      <td>15</td>\n",
              "      <td>0.072042</td>\n",
              "      <td>0.984375</td>\n",
              "    </tr>\n",
              "    <tr>\n",
              "      <th>...</th>\n",
              "      <td>...</td>\n",
              "      <td>...</td>\n",
              "      <td>...</td>\n",
              "      <td>...</td>\n",
              "      <td>...</td>\n",
              "      <td>...</td>\n",
              "      <td>...</td>\n",
              "      <td>...</td>\n",
              "      <td>...</td>\n",
              "      <td>...</td>\n",
              "      <td>...</td>\n",
              "    </tr>\n",
              "    <tr>\n",
              "      <th>1010</th>\n",
              "      <td>ftrl</td>\n",
              "      <td>0.007620</td>\n",
              "      <td>0.787029</td>\n",
              "      <td>52.1591</td>\n",
              "      <td>40.9182</td>\n",
              "      <td>148.7001</td>\n",
              "      <td>11</td>\n",
              "      <td>43.500305</td>\n",
              "      <td>16</td>\n",
              "      <td>0.051317</td>\n",
              "      <td>0.989583</td>\n",
              "    </tr>\n",
              "    <tr>\n",
              "      <th>1011</th>\n",
              "      <td>nadam</td>\n",
              "      <td>0.001103</td>\n",
              "      <td>0.559923</td>\n",
              "      <td>53.1643</td>\n",
              "      <td>43.7071</td>\n",
              "      <td>113.8758</td>\n",
              "      <td>7</td>\n",
              "      <td>391.502747</td>\n",
              "      <td>15</td>\n",
              "      <td>0.157909</td>\n",
              "      <td>0.937500</td>\n",
              "    </tr>\n",
              "    <tr>\n",
              "      <th>1012</th>\n",
              "      <td>sgd</td>\n",
              "      <td>0.006675</td>\n",
              "      <td>0.477616</td>\n",
              "      <td>51.4250</td>\n",
              "      <td>43.9438</td>\n",
              "      <td>211.1450</td>\n",
              "      <td>16</td>\n",
              "      <td>304.502136</td>\n",
              "      <td>15</td>\n",
              "      <td>0.084905</td>\n",
              "      <td>0.979167</td>\n",
              "    </tr>\n",
              "    <tr>\n",
              "      <th>1013</th>\n",
              "      <td>rmsprop</td>\n",
              "      <td>0.008886</td>\n",
              "      <td>0.434062</td>\n",
              "      <td>51.9273</td>\n",
              "      <td>47.0500</td>\n",
              "      <td>139.8019</td>\n",
              "      <td>11</td>\n",
              "      <td>174.001221</td>\n",
              "      <td>15</td>\n",
              "      <td>0.116141</td>\n",
              "      <td>0.989583</td>\n",
              "    </tr>\n",
              "    <tr>\n",
              "      <th>1014</th>\n",
              "      <td>adadelta</td>\n",
              "      <td>0.005858</td>\n",
              "      <td>0.087801</td>\n",
              "      <td>49.2650</td>\n",
              "      <td>43.4833</td>\n",
              "      <td>421.5670</td>\n",
              "      <td>30</td>\n",
              "      <td>261.001831</td>\n",
              "      <td>15</td>\n",
              "      <td>0.339677</td>\n",
              "      <td>0.843750</td>\n",
              "    </tr>\n",
              "  </tbody>\n",
              "</table>\n",
              "<p>1015 rows × 11 columns</p>\n",
              "</div>\n",
              "      <button class=\"colab-df-convert\" onclick=\"convertToInteractive('df-3643ca57-7d5c-4325-8e89-44f79b88c328')\"\n",
              "              title=\"Convert this dataframe to an interactive table.\"\n",
              "              style=\"display:none;\">\n",
              "        \n",
              "  <svg xmlns=\"http://www.w3.org/2000/svg\" height=\"24px\"viewBox=\"0 0 24 24\"\n",
              "       width=\"24px\">\n",
              "    <path d=\"M0 0h24v24H0V0z\" fill=\"none\"/>\n",
              "    <path d=\"M18.56 5.44l.94 2.06.94-2.06 2.06-.94-2.06-.94-.94-2.06-.94 2.06-2.06.94zm-11 1L8.5 8.5l.94-2.06 2.06-.94-2.06-.94L8.5 2.5l-.94 2.06-2.06.94zm10 10l.94 2.06.94-2.06 2.06-.94-2.06-.94-.94-2.06-.94 2.06-2.06.94z\"/><path d=\"M17.41 7.96l-1.37-1.37c-.4-.4-.92-.59-1.43-.59-.52 0-1.04.2-1.43.59L10.3 9.45l-7.72 7.72c-.78.78-.78 2.05 0 2.83L4 21.41c.39.39.9.59 1.41.59.51 0 1.02-.2 1.41-.59l7.78-7.78 2.81-2.81c.8-.78.8-2.07 0-2.86zM5.41 20L4 18.59l7.72-7.72 1.47 1.35L5.41 20z\"/>\n",
              "  </svg>\n",
              "      </button>\n",
              "      \n",
              "  <style>\n",
              "    .colab-df-container {\n",
              "      display:flex;\n",
              "      flex-wrap:wrap;\n",
              "      gap: 12px;\n",
              "    }\n",
              "\n",
              "    .colab-df-convert {\n",
              "      background-color: #E8F0FE;\n",
              "      border: none;\n",
              "      border-radius: 50%;\n",
              "      cursor: pointer;\n",
              "      display: none;\n",
              "      fill: #1967D2;\n",
              "      height: 32px;\n",
              "      padding: 0 0 0 0;\n",
              "      width: 32px;\n",
              "    }\n",
              "\n",
              "    .colab-df-convert:hover {\n",
              "      background-color: #E2EBFA;\n",
              "      box-shadow: 0px 1px 2px rgba(60, 64, 67, 0.3), 0px 1px 3px 1px rgba(60, 64, 67, 0.15);\n",
              "      fill: #174EA6;\n",
              "    }\n",
              "\n",
              "    [theme=dark] .colab-df-convert {\n",
              "      background-color: #3B4455;\n",
              "      fill: #D2E3FC;\n",
              "    }\n",
              "\n",
              "    [theme=dark] .colab-df-convert:hover {\n",
              "      background-color: #434B5C;\n",
              "      box-shadow: 0px 1px 3px 1px rgba(0, 0, 0, 0.15);\n",
              "      filter: drop-shadow(0px 1px 2px rgba(0, 0, 0, 0.3));\n",
              "      fill: #FFFFFF;\n",
              "    }\n",
              "  </style>\n",
              "\n",
              "      <script>\n",
              "        const buttonEl =\n",
              "          document.querySelector('#df-3643ca57-7d5c-4325-8e89-44f79b88c328 button.colab-df-convert');\n",
              "        buttonEl.style.display =\n",
              "          google.colab.kernel.accessAllowed ? 'block' : 'none';\n",
              "\n",
              "        async function convertToInteractive(key) {\n",
              "          const element = document.querySelector('#df-3643ca57-7d5c-4325-8e89-44f79b88c328');\n",
              "          const dataTable =\n",
              "            await google.colab.kernel.invokeFunction('convertToInteractive',\n",
              "                                                     [key], {});\n",
              "          if (!dataTable) return;\n",
              "\n",
              "          const docLinkHtml = 'Like what you see? Visit the ' +\n",
              "            '<a target=\"_blank\" href=https://colab.research.google.com/notebooks/data_table.ipynb>data table notebook</a>'\n",
              "            + ' to learn more about interactive tables.';\n",
              "          element.innerHTML = '';\n",
              "          dataTable['output_type'] = 'display_data';\n",
              "          await google.colab.output.renderOutput(dataTable, element);\n",
              "          const docLink = document.createElement('div');\n",
              "          docLink.innerHTML = docLinkHtml;\n",
              "          element.appendChild(docLink);\n",
              "        }\n",
              "      </script>\n",
              "    </div>\n",
              "  </div>\n",
              "  "
            ]
          },
          "metadata": {},
          "execution_count": 21
        }
      ]
    },
    {
      "cell_type": "code",
      "source": [
        "data.shape"
      ],
      "metadata": {
        "id": "Jld26GtK7JDu",
        "colab": {
          "base_uri": "https://localhost:8080/"
        },
        "outputId": "6ec287a6-0b88-4fc6-f160-03a93fa7926f"
      },
      "execution_count": 22,
      "outputs": [
        {
          "output_type": "execute_result",
          "data": {
            "text/plain": [
              "(1015, 11)"
            ]
          },
          "metadata": {},
          "execution_count": 22
        }
      ]
    },
    {
      "cell_type": "markdown",
      "source": [
        "# Dataset Preprocessing"
      ],
      "metadata": {
        "id": "G1QzZ8Wv9MG3"
      }
    },
    {
      "cell_type": "code",
      "source": [
        "# identify the null values\n",
        "data.isnull().sum()"
      ],
      "metadata": {
        "colab": {
          "base_uri": "https://localhost:8080/"
        },
        "id": "oXQIhzeEQFqV",
        "outputId": "6c30f0ee-1cea-4da3-e75f-2d9c01d77f0e"
      },
      "execution_count": 23,
      "outputs": [
        {
          "output_type": "execute_result",
          "data": {
            "text/plain": [
              "optimizer        0\n",
              "learning_rate    0\n",
              "momentum         0\n",
              "cpu              0\n",
              "memory           0\n",
              "time             0\n",
              "epochs           0\n",
              "predictions      0\n",
              "dataset          0\n",
              "loss             0\n",
              "accuracy         0\n",
              "dtype: int64"
            ]
          },
          "metadata": {},
          "execution_count": 23
        }
      ]
    },
    {
      "cell_type": "code",
      "source": [
        "# label Encoding\n",
        "\n",
        "from sklearn import preprocessing \n",
        "le=preprocessing.LabelEncoder()\n",
        "data['optimizer']=le.fit_transform(data['optimizer'])"
      ],
      "metadata": {
        "id": "13U64Fv2QLNw"
      },
      "execution_count": 24,
      "outputs": []
    },
    {
      "cell_type": "code",
      "source": [
        "# first five rows\n",
        "data.head()"
      ],
      "metadata": {
        "colab": {
          "base_uri": "https://localhost:8080/",
          "height": 206
        },
        "id": "qtGKj6UyQXhG",
        "outputId": "1beebc2e-277a-45a5-c6c0-5a1eaba4a33f"
      },
      "execution_count": 25,
      "outputs": [
        {
          "output_type": "execute_result",
          "data": {
            "text/plain": [
              "   optimizer  learning_rate  momentum      cpu   memory      time  epochs  \\\n",
              "0          1       0.008751  0.104857  81.2750  75.3438   98.9703       8   \n",
              "1          2       0.001269  0.153086  77.1636  73.4545  132.8219      11   \n",
              "2          3       0.007288  0.211320  75.5429  73.5071   88.2348       7   \n",
              "3          4       0.000581  0.469927  75.0548  75.0619  256.7182      21   \n",
              "4          5       0.000211  0.187863  74.2542  73.8125  135.8448      12   \n",
              "\n",
              "   predictions  dataset      loss  accuracy  \n",
              "0   348.002441       16  0.041280  1.000000  \n",
              "1   304.502136       16  0.065116  0.979167  \n",
              "2   435.003052       15  0.110147  0.963542  \n",
              "3   304.502136       15  0.184383  0.953125  \n",
              "4    43.500305       15  0.072042  0.984375  "
            ],
            "text/html": [
              "\n",
              "  <div id=\"df-f70a02ff-db2b-4c27-9aac-de8eeca9f2aa\">\n",
              "    <div class=\"colab-df-container\">\n",
              "      <div>\n",
              "<style scoped>\n",
              "    .dataframe tbody tr th:only-of-type {\n",
              "        vertical-align: middle;\n",
              "    }\n",
              "\n",
              "    .dataframe tbody tr th {\n",
              "        vertical-align: top;\n",
              "    }\n",
              "\n",
              "    .dataframe thead th {\n",
              "        text-align: right;\n",
              "    }\n",
              "</style>\n",
              "<table border=\"1\" class=\"dataframe\">\n",
              "  <thead>\n",
              "    <tr style=\"text-align: right;\">\n",
              "      <th></th>\n",
              "      <th>optimizer</th>\n",
              "      <th>learning_rate</th>\n",
              "      <th>momentum</th>\n",
              "      <th>cpu</th>\n",
              "      <th>memory</th>\n",
              "      <th>time</th>\n",
              "      <th>epochs</th>\n",
              "      <th>predictions</th>\n",
              "      <th>dataset</th>\n",
              "      <th>loss</th>\n",
              "      <th>accuracy</th>\n",
              "    </tr>\n",
              "  </thead>\n",
              "  <tbody>\n",
              "    <tr>\n",
              "      <th>0</th>\n",
              "      <td>1</td>\n",
              "      <td>0.008751</td>\n",
              "      <td>0.104857</td>\n",
              "      <td>81.2750</td>\n",
              "      <td>75.3438</td>\n",
              "      <td>98.9703</td>\n",
              "      <td>8</td>\n",
              "      <td>348.002441</td>\n",
              "      <td>16</td>\n",
              "      <td>0.041280</td>\n",
              "      <td>1.000000</td>\n",
              "    </tr>\n",
              "    <tr>\n",
              "      <th>1</th>\n",
              "      <td>2</td>\n",
              "      <td>0.001269</td>\n",
              "      <td>0.153086</td>\n",
              "      <td>77.1636</td>\n",
              "      <td>73.4545</td>\n",
              "      <td>132.8219</td>\n",
              "      <td>11</td>\n",
              "      <td>304.502136</td>\n",
              "      <td>16</td>\n",
              "      <td>0.065116</td>\n",
              "      <td>0.979167</td>\n",
              "    </tr>\n",
              "    <tr>\n",
              "      <th>2</th>\n",
              "      <td>3</td>\n",
              "      <td>0.007288</td>\n",
              "      <td>0.211320</td>\n",
              "      <td>75.5429</td>\n",
              "      <td>73.5071</td>\n",
              "      <td>88.2348</td>\n",
              "      <td>7</td>\n",
              "      <td>435.003052</td>\n",
              "      <td>15</td>\n",
              "      <td>0.110147</td>\n",
              "      <td>0.963542</td>\n",
              "    </tr>\n",
              "    <tr>\n",
              "      <th>3</th>\n",
              "      <td>4</td>\n",
              "      <td>0.000581</td>\n",
              "      <td>0.469927</td>\n",
              "      <td>75.0548</td>\n",
              "      <td>75.0619</td>\n",
              "      <td>256.7182</td>\n",
              "      <td>21</td>\n",
              "      <td>304.502136</td>\n",
              "      <td>15</td>\n",
              "      <td>0.184383</td>\n",
              "      <td>0.953125</td>\n",
              "    </tr>\n",
              "    <tr>\n",
              "      <th>4</th>\n",
              "      <td>5</td>\n",
              "      <td>0.000211</td>\n",
              "      <td>0.187863</td>\n",
              "      <td>74.2542</td>\n",
              "      <td>73.8125</td>\n",
              "      <td>135.8448</td>\n",
              "      <td>12</td>\n",
              "      <td>43.500305</td>\n",
              "      <td>15</td>\n",
              "      <td>0.072042</td>\n",
              "      <td>0.984375</td>\n",
              "    </tr>\n",
              "  </tbody>\n",
              "</table>\n",
              "</div>\n",
              "      <button class=\"colab-df-convert\" onclick=\"convertToInteractive('df-f70a02ff-db2b-4c27-9aac-de8eeca9f2aa')\"\n",
              "              title=\"Convert this dataframe to an interactive table.\"\n",
              "              style=\"display:none;\">\n",
              "        \n",
              "  <svg xmlns=\"http://www.w3.org/2000/svg\" height=\"24px\"viewBox=\"0 0 24 24\"\n",
              "       width=\"24px\">\n",
              "    <path d=\"M0 0h24v24H0V0z\" fill=\"none\"/>\n",
              "    <path d=\"M18.56 5.44l.94 2.06.94-2.06 2.06-.94-2.06-.94-.94-2.06-.94 2.06-2.06.94zm-11 1L8.5 8.5l.94-2.06 2.06-.94-2.06-.94L8.5 2.5l-.94 2.06-2.06.94zm10 10l.94 2.06.94-2.06 2.06-.94-2.06-.94-.94-2.06-.94 2.06-2.06.94z\"/><path d=\"M17.41 7.96l-1.37-1.37c-.4-.4-.92-.59-1.43-.59-.52 0-1.04.2-1.43.59L10.3 9.45l-7.72 7.72c-.78.78-.78 2.05 0 2.83L4 21.41c.39.39.9.59 1.41.59.51 0 1.02-.2 1.41-.59l7.78-7.78 2.81-2.81c.8-.78.8-2.07 0-2.86zM5.41 20L4 18.59l7.72-7.72 1.47 1.35L5.41 20z\"/>\n",
              "  </svg>\n",
              "      </button>\n",
              "      \n",
              "  <style>\n",
              "    .colab-df-container {\n",
              "      display:flex;\n",
              "      flex-wrap:wrap;\n",
              "      gap: 12px;\n",
              "    }\n",
              "\n",
              "    .colab-df-convert {\n",
              "      background-color: #E8F0FE;\n",
              "      border: none;\n",
              "      border-radius: 50%;\n",
              "      cursor: pointer;\n",
              "      display: none;\n",
              "      fill: #1967D2;\n",
              "      height: 32px;\n",
              "      padding: 0 0 0 0;\n",
              "      width: 32px;\n",
              "    }\n",
              "\n",
              "    .colab-df-convert:hover {\n",
              "      background-color: #E2EBFA;\n",
              "      box-shadow: 0px 1px 2px rgba(60, 64, 67, 0.3), 0px 1px 3px 1px rgba(60, 64, 67, 0.15);\n",
              "      fill: #174EA6;\n",
              "    }\n",
              "\n",
              "    [theme=dark] .colab-df-convert {\n",
              "      background-color: #3B4455;\n",
              "      fill: #D2E3FC;\n",
              "    }\n",
              "\n",
              "    [theme=dark] .colab-df-convert:hover {\n",
              "      background-color: #434B5C;\n",
              "      box-shadow: 0px 1px 3px 1px rgba(0, 0, 0, 0.15);\n",
              "      filter: drop-shadow(0px 1px 2px rgba(0, 0, 0, 0.3));\n",
              "      fill: #FFFFFF;\n",
              "    }\n",
              "  </style>\n",
              "\n",
              "      <script>\n",
              "        const buttonEl =\n",
              "          document.querySelector('#df-f70a02ff-db2b-4c27-9aac-de8eeca9f2aa button.colab-df-convert');\n",
              "        buttonEl.style.display =\n",
              "          google.colab.kernel.accessAllowed ? 'block' : 'none';\n",
              "\n",
              "        async function convertToInteractive(key) {\n",
              "          const element = document.querySelector('#df-f70a02ff-db2b-4c27-9aac-de8eeca9f2aa');\n",
              "          const dataTable =\n",
              "            await google.colab.kernel.invokeFunction('convertToInteractive',\n",
              "                                                     [key], {});\n",
              "          if (!dataTable) return;\n",
              "\n",
              "          const docLinkHtml = 'Like what you see? Visit the ' +\n",
              "            '<a target=\"_blank\" href=https://colab.research.google.com/notebooks/data_table.ipynb>data table notebook</a>'\n",
              "            + ' to learn more about interactive tables.';\n",
              "          element.innerHTML = '';\n",
              "          dataTable['output_type'] = 'display_data';\n",
              "          await google.colab.output.renderOutput(dataTable, element);\n",
              "          const docLink = document.createElement('div');\n",
              "          docLink.innerHTML = docLinkHtml;\n",
              "          element.appendChild(docLink);\n",
              "        }\n",
              "      </script>\n",
              "    </div>\n",
              "  </div>\n",
              "  "
            ]
          },
          "metadata": {},
          "execution_count": 25
        }
      ]
    },
    {
      "cell_type": "code",
      "source": [
        "# info of dataset\n",
        "data.info()"
      ],
      "metadata": {
        "id": "6eYCmkhP9V4p"
      },
      "execution_count": null,
      "outputs": []
    },
    {
      "cell_type": "code",
      "source": [
        "data.columns"
      ],
      "metadata": {
        "colab": {
          "base_uri": "https://localhost:8080/"
        },
        "id": "_o8nkF5eQhJt",
        "outputId": "31580937-a598-4bae-f695-d75e9d9ddbf1"
      },
      "execution_count": 26,
      "outputs": [
        {
          "output_type": "execute_result",
          "data": {
            "text/plain": [
              "Index(['optimizer', 'learning_rate', 'momentum', 'cpu', 'memory', 'time',\n",
              "       'epochs', 'predictions', 'dataset', 'loss', 'accuracy'],\n",
              "      dtype='object')"
            ]
          },
          "metadata": {},
          "execution_count": 26
        }
      ]
    },
    {
      "cell_type": "code",
      "source": [
        "input_features = data[['cpu', 'memory', 'dataset']]\n",
        "output_features = data[['optimizer', 'learning_rate', 'momentum', 'time', 'epochs', 'loss', 'accuracy']]"
      ],
      "metadata": {
        "id": "uOoaKljpQrXA"
      },
      "execution_count": 27,
      "outputs": []
    },
    {
      "cell_type": "code",
      "source": [
        "x=input_features\n",
        "y=output_features"
      ],
      "metadata": {
        "id": "WfefYpezQaog"
      },
      "execution_count": 28,
      "outputs": []
    },
    {
      "cell_type": "markdown",
      "source": [
        "# Visulization"
      ],
      "metadata": {
        "id": "I0RLZdW_-DF-"
      }
    },
    {
      "cell_type": "markdown",
      "source": [
        "# Box Plot"
      ],
      "metadata": {
        "id": "dtNNNDtp-RQe"
      }
    },
    {
      "cell_type": "code",
      "source": [
        "data.plot(kind='box', subplots=True, layout=(2,7),\n",
        "sharex=False,sharey=False, figsize=(20, 10), \n",
        "color='deeppink');"
      ],
      "metadata": {
        "colab": {
          "base_uri": "https://localhost:8080/",
          "height": 495
        },
        "id": "DLNtDwGF-CbV",
        "outputId": "f43963c5-e8d6-4fbe-bfee-91c11f7a935e"
      },
      "execution_count": 47,
      "outputs": [
        {
          "output_type": "display_data",
          "data": {
            "text/plain": [
              "<Figure size 2000x1000 with 14 Axes>"
            ],
            "image/png": "[encoded data removed]"
          },
          "metadata": {}
        }
      ]
    },
    {
      "cell_type": "markdown",
      "source": [
        "# Histogram "
      ],
      "metadata": {
        "id": "AbDaNAzn-kgG"
      }
    },
    {
      "cell_type": "code",
      "source": [
        "data.plot(kind='hist', subplots=True, layout=(2,7),\n",
        "sharex=False,sharey=False, figsize=(20, 10), \n",
        "color='deeppink');"
      ],
      "metadata": {
        "colab": {
          "base_uri": "https://localhost:8080/",
          "height": 487
        },
        "id": "b3k0wLa_-VB4",
        "outputId": "7bcc02fd-f8c4-4994-cdc5-281b8e1c1b7a"
      },
      "execution_count": 50,
      "outputs": [
        {
          "output_type": "display_data",
          "data": {
            "text/plain": [
              "<Figure size 2000x1000 with 14 Axes>"
            ],
            "image/png": "[encoded data removed]"
          },
          "metadata": {}
        }
      ]
    },
    {
      "cell_type": "markdown",
      "source": [
        "# Feature Engineering"
      ],
      "metadata": {
        "id": "edZeRjRz96tO"
      }
    },
    {
      "cell_type": "code",
      "source": [
        "# feature engieering\n",
        "x_train , x_test , y_train , y_test=train_test_split(x,y,test_size=0.25)"
      ],
      "metadata": {
        "id": "AHcMHo4PQ_JB"
      },
      "execution_count": 31,
      "outputs": []
    },
    {
      "cell_type": "code",
      "source": [
        "x_train"
      ],
      "metadata": {
        "colab": {
          "base_uri": "https://localhost:8080/",
          "height": 423
        },
        "id": "orQij3hURni5",
        "outputId": "2becdf32-a7f9-41b8-d606-259f7ac42f27"
      },
      "execution_count": 32,
      "outputs": [
        {
          "output_type": "execute_result",
          "data": {
            "text/plain": [
              "         cpu   memory  dataset\n",
              "376  61.6700  72.3300       15\n",
              "827  61.0667  52.1917       16\n",
              "81   65.7000  75.9167       16\n",
              "896  53.3000  62.5917       16\n",
              "131  64.1192  73.3923       16\n",
              "..       ...      ...      ...\n",
              "668  54.0188  43.0812       16\n",
              "816  46.7500  50.5375       16\n",
              "662  57.7712  50.1167       16\n",
              "656  49.5222  53.5333       16\n",
              "104  65.1500  74.5038       15\n",
              "\n",
              "[761 rows x 3 columns]"
            ],
            "text/html": [
              "\n",
              "  <div id=\"df-53247614-b384-4250-a374-06ec0beb7f9b\">\n",
              "    <div class=\"colab-df-container\">\n",
              "      <div>\n",
              "<style scoped>\n",
              "    .dataframe tbody tr th:only-of-type {\n",
              "        vertical-align: middle;\n",
              "    }\n",
              "\n",
              "    .dataframe tbody tr th {\n",
              "        vertical-align: top;\n",
              "    }\n",
              "\n",
              "    .dataframe thead th {\n",
              "        text-align: right;\n",
              "    }\n",
              "</style>\n",
              "<table border=\"1\" class=\"dataframe\">\n",
              "  <thead>\n",
              "    <tr style=\"text-align: right;\">\n",
              "      <th></th>\n",
              "      <th>cpu</th>\n",
              "      <th>memory</th>\n",
              "      <th>dataset</th>\n",
              "    </tr>\n",
              "  </thead>\n",
              "  <tbody>\n",
              "    <tr>\n",
              "      <th>376</th>\n",
              "      <td>61.6700</td>\n",
              "      <td>72.3300</td>\n",
              "      <td>15</td>\n",
              "    </tr>\n",
              "    <tr>\n",
              "      <th>827</th>\n",
              "      <td>61.0667</td>\n",
              "      <td>52.1917</td>\n",
              "      <td>16</td>\n",
              "    </tr>\n",
              "    <tr>\n",
              "      <th>81</th>\n",
              "      <td>65.7000</td>\n",
              "      <td>75.9167</td>\n",
              "      <td>16</td>\n",
              "    </tr>\n",
              "    <tr>\n",
              "      <th>896</th>\n",
              "      <td>53.3000</td>\n",
              "      <td>62.5917</td>\n",
              "      <td>16</td>\n",
              "    </tr>\n",
              "    <tr>\n",
              "      <th>131</th>\n",
              "      <td>64.1192</td>\n",
              "      <td>73.3923</td>\n",
              "      <td>16</td>\n",
              "    </tr>\n",
              "    <tr>\n",
              "      <th>...</th>\n",
              "      <td>...</td>\n",
              "      <td>...</td>\n",
              "      <td>...</td>\n",
              "    </tr>\n",
              "    <tr>\n",
              "      <th>668</th>\n",
              "      <td>54.0188</td>\n",
              "      <td>43.0812</td>\n",
              "      <td>16</td>\n",
              "    </tr>\n",
              "    <tr>\n",
              "      <th>816</th>\n",
              "      <td>46.7500</td>\n",
              "      <td>50.5375</td>\n",
              "      <td>16</td>\n",
              "    </tr>\n",
              "    <tr>\n",
              "      <th>662</th>\n",
              "      <td>57.7712</td>\n",
              "      <td>50.1167</td>\n",
              "      <td>16</td>\n",
              "    </tr>\n",
              "    <tr>\n",
              "      <th>656</th>\n",
              "      <td>49.5222</td>\n",
              "      <td>53.5333</td>\n",
              "      <td>16</td>\n",
              "    </tr>\n",
              "    <tr>\n",
              "      <th>104</th>\n",
              "      <td>65.1500</td>\n",
              "      <td>74.5038</td>\n",
              "      <td>15</td>\n",
              "    </tr>\n",
              "  </tbody>\n",
              "</table>\n",
              "<p>761 rows × 3 columns</p>\n",
              "</div>\n",
              "      <button class=\"colab-df-convert\" onclick=\"convertToInteractive('df-53247614-b384-4250-a374-06ec0beb7f9b')\"\n",
              "              title=\"Convert this dataframe to an interactive table.\"\n",
              "              style=\"display:none;\">\n",
              "        \n",
              "  <svg xmlns=\"http://www.w3.org/2000/svg\" height=\"24px\"viewBox=\"0 0 24 24\"\n",
              "       width=\"24px\">\n",
              "    <path d=\"M0 0h24v24H0V0z\" fill=\"none\"/>\n",
              "    <path d=\"M18.56 5.44l.94 2.06.94-2.06 2.06-.94-2.06-.94-.94-2.06-.94 2.06-2.06.94zm-11 1L8.5 8.5l.94-2.06 2.06-.94-2.06-.94L8.5 2.5l-.94 2.06-2.06.94zm10 10l.94 2.06.94-2.06 2.06-.94-2.06-.94-.94-2.06-.94 2.06-2.06.94z\"/><path d=\"M17.41 7.96l-1.37-1.37c-.4-.4-.92-.59-1.43-.59-.52 0-1.04.2-1.43.59L10.3 9.45l-7.72 7.72c-.78.78-.78 2.05 0 2.83L4 21.41c.39.39.9.59 1.41.59.51 0 1.02-.2 1.41-.59l7.78-7.78 2.81-2.81c.8-.78.8-2.07 0-2.86zM5.41 20L4 18.59l7.72-7.72 1.47 1.35L5.41 20z\"/>\n",
              "  </svg>\n",
              "      </button>\n",
              "      \n",
              "  <style>\n",
              "    .colab-df-container {\n",
              "      display:flex;\n",
              "      flex-wrap:wrap;\n",
              "      gap: 12px;\n",
              "    }\n",
              "\n",
              "    .colab-df-convert {\n",
              "      background-color: #E8F0FE;\n",
              "      border: none;\n",
              "      border-radius: 50%;\n",
              "      cursor: pointer;\n",
              "      display: none;\n",
              "      fill: #1967D2;\n",
              "      height: 32px;\n",
              "      padding: 0 0 0 0;\n",
              "      width: 32px;\n",
              "    }\n",
              "\n",
              "    .colab-df-convert:hover {\n",
              "      background-color: #E2EBFA;\n",
              "      box-shadow: 0px 1px 2px rgba(60, 64, 67, 0.3), 0px 1px 3px 1px rgba(60, 64, 67, 0.15);\n",
              "      fill: #174EA6;\n",
              "    }\n",
              "\n",
              "    [theme=dark] .colab-df-convert {\n",
              "      background-color: #3B4455;\n",
              "      fill: #D2E3FC;\n",
              "    }\n",
              "\n",
              "    [theme=dark] .colab-df-convert:hover {\n",
              "      background-color: #434B5C;\n",
              "      box-shadow: 0px 1px 3px 1px rgba(0, 0, 0, 0.15);\n",
              "      filter: drop-shadow(0px 1px 2px rgba(0, 0, 0, 0.3));\n",
              "      fill: #FFFFFF;\n",
              "    }\n",
              "  </style>\n",
              "\n",
              "      <script>\n",
              "        const buttonEl =\n",
              "          document.querySelector('#df-53247614-b384-4250-a374-06ec0beb7f9b button.colab-df-convert');\n",
              "        buttonEl.style.display =\n",
              "          google.colab.kernel.accessAllowed ? 'block' : 'none';\n",
              "\n",
              "        async function convertToInteractive(key) {\n",
              "          const element = document.querySelector('#df-53247614-b384-4250-a374-06ec0beb7f9b');\n",
              "          const dataTable =\n",
              "            await google.colab.kernel.invokeFunction('convertToInteractive',\n",
              "                                                     [key], {});\n",
              "          if (!dataTable) return;\n",
              "\n",
              "          const docLinkHtml = 'Like what you see? Visit the ' +\n",
              "            '<a target=\"_blank\" href=https://colab.research.google.com/notebooks/data_table.ipynb>data table notebook</a>'\n",
              "            + ' to learn more about interactive tables.';\n",
              "          element.innerHTML = '';\n",
              "          dataTable['output_type'] = 'display_data';\n",
              "          await google.colab.output.renderOutput(dataTable, element);\n",
              "          const docLink = document.createElement('div');\n",
              "          docLink.innerHTML = docLinkHtml;\n",
              "          element.appendChild(docLink);\n",
              "        }\n",
              "      </script>\n",
              "    </div>\n",
              "  </div>\n",
              "  "
            ]
          },
          "metadata": {},
          "execution_count": 32
        }
      ]
    },
    {
      "cell_type": "code",
      "source": [
        "# covert dataframe to array\n",
        "x_train=np.array(x_train)\n",
        "y_train=np.array(y_train)\n",
        "x_test=np.array(x_test)\n",
        "y_test=np.array(y_test)"
      ],
      "metadata": {
        "id": "mPoFtxnTUQGl"
      },
      "execution_count": 33,
      "outputs": []
    },
    {
      "cell_type": "code",
      "source": [
        "# Shape \n",
        "print(x_train.shape)\n",
        "print(y_train.shape)\n",
        "print(x_test.shape)\n",
        "print(y_test.shape)"
      ],
      "metadata": {
        "colab": {
          "base_uri": "https://localhost:8080/"
        },
        "id": "Ai0Vnm4iUdgK",
        "outputId": "69e74ebe-d306-47a3-f7c0-ecf21d410823"
      },
      "execution_count": 34,
      "outputs": [
        {
          "output_type": "stream",
          "name": "stdout",
          "text": [
            "(761, 3)\n",
            "(761, 7)\n",
            "(254, 3)\n",
            "(254, 7)\n"
          ]
        }
      ]
    },
    {
      "cell_type": "markdown",
      "source": [
        "# Deep Learning Model ( Neural Network)"
      ],
      "metadata": {
        "id": "WarOOPLWdR0D"
      }
    },
    {
      "cell_type": "code",
      "source": [
        "# Define the model architecture\n",
        "nn_model = tf.keras.models.Sequential([\n",
        "  tf.keras.layers.Dense(128, activation='relu', input_shape=(3,)),\n",
        "  tf.keras.layers.Dense(64, activation='relu'),\n",
        "  tf.keras.layers.Dense(32, activation='relu'),\n",
        "  tf.keras.layers.Dense(16, activation='relu'),\n",
        "  tf.keras.layers.Dense(7, activation='softmax')\n",
        "])"
      ],
      "metadata": {
        "id": "pUEmQaw9ebar"
      },
      "execution_count": 36,
      "outputs": []
    },
    {
      "cell_type": "code",
      "source": [
        "nn_model.compile(optimizer='adam' , loss=['categorical_crossentropy', 'mse'] , metrics=['accuracy', 'mse'])"
      ],
      "metadata": {
        "id": "5rO7abOUndWl"
      },
      "execution_count": 37,
      "outputs": []
    },
    {
      "cell_type": "code",
      "source": [
        "nn_model.summary()"
      ],
      "metadata": {
        "colab": {
          "base_uri": "https://localhost:8080/"
        },
        "id": "4QF9t3qCoFGu",
        "outputId": "797a08fc-d600-41c9-d6cf-e5ccd15cfdd9"
      },
      "execution_count": 38,
      "outputs": [
        {
          "output_type": "stream",
          "name": "stdout",
          "text": [
            "Model: \"sequential\"\n",
            "_________________________________________________________________\n",
            " Layer (type)                Output Shape              Param #   \n",
            "=================================================================\n",
            " dense (Dense)               (None, 128)               512       \n",
            "                                                                 \n",
            " dense_1 (Dense)             (None, 64)                8256      \n",
            "                                                                 \n",
            " dense_2 (Dense)             (None, 32)                2080      \n",
            "                                                                 \n",
            " dense_3 (Dense)             (None, 16)                528       \n",
            "                                                                 \n",
            " dense_4 (Dense)             (None, 7)                 119       \n",
            "                                                                 \n",
            "=================================================================\n",
            "Total params: 11,495\n",
            "Trainable params: 11,495\n",
            "Non-trainable params: 0\n",
            "_________________________________________________________________\n"
          ]
        }
      ]
    },
    {
      "cell_type": "code",
      "source": [
        "nn_model.fit(x_train , y_train , epochs=2 , batch_size=32)"
      ],
      "metadata": {
        "colab": {
          "base_uri": "https://localhost:8080/"
        },
        "id": "ucSB3tMzoQpa",
        "outputId": "ca0f134d-e949-4637-d4a2-c1d329782ce6"
      },
      "execution_count": 39,
      "outputs": [
        {
          "output_type": "stream",
          "name": "stdout",
          "text": [
            "Epoch 1/2\n",
            "24/24 [==============================] - 2s 2ms/step - loss: 497.6125 - accuracy: 0.6820 - mse: 4386.6069 \n",
            "Epoch 2/2\n",
            "24/24 [==============================] - 0s 2ms/step - loss: 2216.2354 - accuracy: 1.0000 - mse: 4373.2285\n"
          ]
        },
        {
          "output_type": "execute_result",
          "data": {
            "text/plain": [
              "<keras.callbacks.History at 0x7fa972528820>"
            ]
          },
          "metadata": {},
          "execution_count": 39
        }
      ]
    }
  ]
}